{
 "cells": [
  {
   "cell_type": "code",
   "execution_count": 1,
   "metadata": {},
   "outputs": [],
   "source": [
    "\n",
    "#Dependencies\n",
    "import pandas as pd\n",
    "import numpy as np\n",
    "import matplotlib.pyplot as plt\n",
    "\n",
    "from sklearn.neighbors import KNeighborsClassifier\n",
    "from sklearn.ensemble import RandomForestClassifier\n",
    "from sklearn.tree import DecisionTreeClassifier\n",
    "from sklearn.linear_model import SGDClassifier\n",
    "from sklearn.model_selection import train_test_split\n",
    "from sklearn.metrics import classification_report\n",
    "from sklearn.preprocessing import StandardScaler\n",
    "from sklearn.model_selection import RandomizedSearchCV, cross_val_score\n",
    "\n",
    "inputfile = \"./static/data/clean_redwineq.csv\""
   ]
  },
  {
   "cell_type": "code",
   "execution_count": 2,
   "metadata": {},
   "outputs": [
    {
     "data": {
      "text/html": [
       "<div>\n",
       "<style scoped>\n",
       "    .dataframe tbody tr th:only-of-type {\n",
       "        vertical-align: middle;\n",
       "    }\n",
       "\n",
       "    .dataframe tbody tr th {\n",
       "        vertical-align: top;\n",
       "    }\n",
       "\n",
       "    .dataframe thead th {\n",
       "        text-align: right;\n",
       "    }\n",
       "</style>\n",
       "<table border=\"1\" class=\"dataframe\">\n",
       "  <thead>\n",
       "    <tr style=\"text-align: right;\">\n",
       "      <th></th>\n",
       "      <th>fixed acidity</th>\n",
       "      <th>volatile acidity</th>\n",
       "      <th>citric acid</th>\n",
       "      <th>residual sugar</th>\n",
       "      <th>chlorides</th>\n",
       "      <th>free sulfur dioxide</th>\n",
       "      <th>total sulfur dioxide</th>\n",
       "      <th>density</th>\n",
       "      <th>pH</th>\n",
       "      <th>sulfates</th>\n",
       "      <th>alcohol</th>\n",
       "      <th>quality</th>\n",
       "      <th>quality_label</th>\n",
       "    </tr>\n",
       "  </thead>\n",
       "  <tbody>\n",
       "    <tr>\n",
       "      <th>0</th>\n",
       "      <td>7.9</td>\n",
       "      <td>0.35</td>\n",
       "      <td>0.46</td>\n",
       "      <td>3.6</td>\n",
       "      <td>0.078</td>\n",
       "      <td>15.0</td>\n",
       "      <td>37.0</td>\n",
       "      <td>0.9973</td>\n",
       "      <td>3.35</td>\n",
       "      <td>0.86</td>\n",
       "      <td>12.8</td>\n",
       "      <td>8</td>\n",
       "      <td>excellent</td>\n",
       "    </tr>\n",
       "    <tr>\n",
       "      <th>1</th>\n",
       "      <td>10.3</td>\n",
       "      <td>0.32</td>\n",
       "      <td>0.45</td>\n",
       "      <td>6.4</td>\n",
       "      <td>0.073</td>\n",
       "      <td>5.0</td>\n",
       "      <td>13.0</td>\n",
       "      <td>0.9976</td>\n",
       "      <td>3.23</td>\n",
       "      <td>0.82</td>\n",
       "      <td>12.6</td>\n",
       "      <td>8</td>\n",
       "      <td>excellent</td>\n",
       "    </tr>\n",
       "    <tr>\n",
       "      <th>2</th>\n",
       "      <td>5.6</td>\n",
       "      <td>0.85</td>\n",
       "      <td>0.05</td>\n",
       "      <td>1.4</td>\n",
       "      <td>0.045</td>\n",
       "      <td>12.0</td>\n",
       "      <td>88.0</td>\n",
       "      <td>0.9924</td>\n",
       "      <td>3.56</td>\n",
       "      <td>0.82</td>\n",
       "      <td>12.9</td>\n",
       "      <td>8</td>\n",
       "      <td>excellent</td>\n",
       "    </tr>\n",
       "    <tr>\n",
       "      <th>3</th>\n",
       "      <td>12.6</td>\n",
       "      <td>0.31</td>\n",
       "      <td>0.72</td>\n",
       "      <td>2.2</td>\n",
       "      <td>0.072</td>\n",
       "      <td>6.0</td>\n",
       "      <td>29.0</td>\n",
       "      <td>0.9987</td>\n",
       "      <td>2.88</td>\n",
       "      <td>0.82</td>\n",
       "      <td>9.8</td>\n",
       "      <td>8</td>\n",
       "      <td>excellent</td>\n",
       "    </tr>\n",
       "    <tr>\n",
       "      <th>4</th>\n",
       "      <td>11.3</td>\n",
       "      <td>0.62</td>\n",
       "      <td>0.67</td>\n",
       "      <td>5.2</td>\n",
       "      <td>0.086</td>\n",
       "      <td>6.0</td>\n",
       "      <td>19.0</td>\n",
       "      <td>0.9988</td>\n",
       "      <td>3.22</td>\n",
       "      <td>0.69</td>\n",
       "      <td>13.4</td>\n",
       "      <td>8</td>\n",
       "      <td>excellent</td>\n",
       "    </tr>\n",
       "  </tbody>\n",
       "</table>\n",
       "</div>"
      ],
      "text/plain": [
       "   fixed acidity  volatile acidity  citric acid  residual sugar  chlorides  \\\n",
       "0            7.9              0.35         0.46             3.6      0.078   \n",
       "1           10.3              0.32         0.45             6.4      0.073   \n",
       "2            5.6              0.85         0.05             1.4      0.045   \n",
       "3           12.6              0.31         0.72             2.2      0.072   \n",
       "4           11.3              0.62         0.67             5.2      0.086   \n",
       "\n",
       "   free sulfur dioxide  total sulfur dioxide  density    pH  sulfates  \\\n",
       "0                 15.0                  37.0   0.9973  3.35      0.86   \n",
       "1                  5.0                  13.0   0.9976  3.23      0.82   \n",
       "2                 12.0                  88.0   0.9924  3.56      0.82   \n",
       "3                  6.0                  29.0   0.9987  2.88      0.82   \n",
       "4                  6.0                  19.0   0.9988  3.22      0.69   \n",
       "\n",
       "   alcohol  quality quality_label  \n",
       "0     12.8        8     excellent  \n",
       "1     12.6        8     excellent  \n",
       "2     12.9        8     excellent  \n",
       "3      9.8        8     excellent  \n",
       "4     13.4        8     excellent  "
      ]
     },
     "execution_count": 2,
     "metadata": {},
     "output_type": "execute_result"
    }
   ],
   "source": [
    "wine_df = pd.read_csv(inputfile)\n",
    "wine_df.head()"
   ]
  },
  {
   "cell_type": "code",
   "execution_count": 3,
   "metadata": {},
   "outputs": [
    {
     "data": {
      "text/html": [
       "<div>\n",
       "<style scoped>\n",
       "    .dataframe tbody tr th:only-of-type {\n",
       "        vertical-align: middle;\n",
       "    }\n",
       "\n",
       "    .dataframe tbody tr th {\n",
       "        vertical-align: top;\n",
       "    }\n",
       "\n",
       "    .dataframe thead th {\n",
       "        text-align: right;\n",
       "    }\n",
       "</style>\n",
       "<table border=\"1\" class=\"dataframe\">\n",
       "  <thead>\n",
       "    <tr style=\"text-align: right;\">\n",
       "      <th></th>\n",
       "      <th>fixed acidity</th>\n",
       "      <th>volatile acidity</th>\n",
       "      <th>citric acid</th>\n",
       "      <th>residual sugar</th>\n",
       "      <th>chlorides</th>\n",
       "      <th>free sulfur dioxide</th>\n",
       "      <th>total sulfur dioxide</th>\n",
       "      <th>density</th>\n",
       "      <th>pH</th>\n",
       "      <th>sulfates</th>\n",
       "      <th>alcohol</th>\n",
       "      <th>quality</th>\n",
       "    </tr>\n",
       "  </thead>\n",
       "  <tbody>\n",
       "    <tr>\n",
       "      <th>0</th>\n",
       "      <td>7.9</td>\n",
       "      <td>0.35</td>\n",
       "      <td>0.46</td>\n",
       "      <td>3.6</td>\n",
       "      <td>0.078</td>\n",
       "      <td>15.0</td>\n",
       "      <td>37.0</td>\n",
       "      <td>0.9973</td>\n",
       "      <td>3.35</td>\n",
       "      <td>0.86</td>\n",
       "      <td>12.8</td>\n",
       "      <td>8</td>\n",
       "    </tr>\n",
       "    <tr>\n",
       "      <th>1</th>\n",
       "      <td>10.3</td>\n",
       "      <td>0.32</td>\n",
       "      <td>0.45</td>\n",
       "      <td>6.4</td>\n",
       "      <td>0.073</td>\n",
       "      <td>5.0</td>\n",
       "      <td>13.0</td>\n",
       "      <td>0.9976</td>\n",
       "      <td>3.23</td>\n",
       "      <td>0.82</td>\n",
       "      <td>12.6</td>\n",
       "      <td>8</td>\n",
       "    </tr>\n",
       "    <tr>\n",
       "      <th>2</th>\n",
       "      <td>5.6</td>\n",
       "      <td>0.85</td>\n",
       "      <td>0.05</td>\n",
       "      <td>1.4</td>\n",
       "      <td>0.045</td>\n",
       "      <td>12.0</td>\n",
       "      <td>88.0</td>\n",
       "      <td>0.9924</td>\n",
       "      <td>3.56</td>\n",
       "      <td>0.82</td>\n",
       "      <td>12.9</td>\n",
       "      <td>8</td>\n",
       "    </tr>\n",
       "    <tr>\n",
       "      <th>3</th>\n",
       "      <td>12.6</td>\n",
       "      <td>0.31</td>\n",
       "      <td>0.72</td>\n",
       "      <td>2.2</td>\n",
       "      <td>0.072</td>\n",
       "      <td>6.0</td>\n",
       "      <td>29.0</td>\n",
       "      <td>0.9987</td>\n",
       "      <td>2.88</td>\n",
       "      <td>0.82</td>\n",
       "      <td>9.8</td>\n",
       "      <td>8</td>\n",
       "    </tr>\n",
       "    <tr>\n",
       "      <th>4</th>\n",
       "      <td>11.3</td>\n",
       "      <td>0.62</td>\n",
       "      <td>0.67</td>\n",
       "      <td>5.2</td>\n",
       "      <td>0.086</td>\n",
       "      <td>6.0</td>\n",
       "      <td>19.0</td>\n",
       "      <td>0.9988</td>\n",
       "      <td>3.22</td>\n",
       "      <td>0.69</td>\n",
       "      <td>13.4</td>\n",
       "      <td>8</td>\n",
       "    </tr>\n",
       "  </tbody>\n",
       "</table>\n",
       "</div>"
      ],
      "text/plain": [
       "   fixed acidity  volatile acidity  citric acid  residual sugar  chlorides  \\\n",
       "0            7.9              0.35         0.46             3.6      0.078   \n",
       "1           10.3              0.32         0.45             6.4      0.073   \n",
       "2            5.6              0.85         0.05             1.4      0.045   \n",
       "3           12.6              0.31         0.72             2.2      0.072   \n",
       "4           11.3              0.62         0.67             5.2      0.086   \n",
       "\n",
       "   free sulfur dioxide  total sulfur dioxide  density    pH  sulfates  \\\n",
       "0                 15.0                  37.0   0.9973  3.35      0.86   \n",
       "1                  5.0                  13.0   0.9976  3.23      0.82   \n",
       "2                 12.0                  88.0   0.9924  3.56      0.82   \n",
       "3                  6.0                  29.0   0.9987  2.88      0.82   \n",
       "4                  6.0                  19.0   0.9988  3.22      0.69   \n",
       "\n",
       "   alcohol  quality  \n",
       "0     12.8        8  \n",
       "1     12.6        8  \n",
       "2     12.9        8  \n",
       "3      9.8        8  \n",
       "4     13.4        8  "
      ]
     },
     "execution_count": 3,
     "metadata": {},
     "output_type": "execute_result"
    }
   ],
   "source": [
    "# Drop type and quality_label columns\n",
    "wine_df.drop([\"quality_label\"],\n",
    "            axis = \"columns\", inplace=True)\n",
    "wine_df.head()"
   ]
  },
  {
   "cell_type": "code",
   "execution_count": 5,
   "metadata": {
    "scrolled": false
   },
   "outputs": [
    {
     "data": {
      "image/png": "[encoded data removed]",
      "text/plain": [
       "<Figure size 432x288 with 1 Axes>"
      ]
     },
     "metadata": {
      "needs_background": "light"
     },
     "output_type": "display_data"
    },
    {
     "data": {
      "image/png": "[encoded data removed]",
      "text/plain": [
       "<Figure size 432x288 with 1 Axes>"
      ]
     },
     "metadata": {
      "needs_background": "light"
     },
     "output_type": "display_data"
    },
    {
     "data": {
      "image/png": "[encoded data removed]",
      "text/plain": [
       "<Figure size 432x288 with 1 Axes>"
      ]
     },
     "metadata": {
      "needs_background": "light"
     },
     "output_type": "display_data"
    },
    {
     "data": {
      "image/png": "[encoded data removed]",
      "text/plain": [
       "<Figure size 432x288 with 1 Axes>"
      ]
     },
     "metadata": {
      "needs_background": "light"
     },
     "output_type": "display_data"
    },
    {
     "data": {
      "image/png": "[encoded data removed]",
      "text/plain": [
       "<Figure size 432x288 with 1 Axes>"
      ]
     },
     "metadata": {
      "needs_background": "light"
     },
     "output_type": "display_data"
    },
    {
     "data": {
      "image/png": "[encoded data removed]",
      "text/plain": [
       "<Figure size 432x288 with 1 Axes>"
      ]
     },
     "metadata": {
      "needs_background": "light"
     },
     "output_type": "display_data"
    },
    {
     "data": {
      "image/png": "[encoded data removed]",
      "text/plain": [
       "<Figure size 432x288 with 1 Axes>"
      ]
     },
     "metadata": {
      "needs_background": "light"
     },
     "output_type": "display_data"
    },
    {
     "data": {
      "image/png": "[encoded data removed]",
      "text/plain": [
       "<Figure size 432x288 with 1 Axes>"
      ]
     },
     "metadata": {
      "needs_background": "light"
     },
     "output_type": "display_data"
    },
    {
     "data": {
      "image/png": "[encoded data removed]",
      "text/plain": [
       "<Figure size 432x288 with 1 Axes>"
      ]
     },
     "metadata": {
      "needs_background": "light"
     },
     "output_type": "display_data"
    },
    {
     "data": {
      "image/png": "[encoded data removed]",
      "text/plain": [
       "<Figure size 432x288 with 1 Axes>"
      ]
     },
     "metadata": {
      "needs_background": "light"
     },
     "output_type": "display_data"
    },
    {
     "data": {
      "image/png": "[encoded data removed]",
      "text/plain": [
       "<Figure size 432x288 with 1 Axes>"
      ]
     },
     "metadata": {
      "needs_background": "light"
     },
     "output_type": "display_data"
    }
   ],
   "source": [
    "# Initial Visual Analysis\n",
    "for label in wine_df.columns[:-1]:\n",
    "    plt.boxplot([wine_df[wine_df['quality']==i][label]for i in range(1,11)])\n",
    "    plt.title(label)\n",
    "    plt.xlabel('quality')\n",
    "    plt.ylabel(label)\n",
    "    plt.savefig(\"static/img/\"+'red'.join(label.split(' ')))\n",
    "    plt.show()"
   ]
  },
  {
   "cell_type": "code",
   "execution_count": 6,
   "metadata": {},
   "outputs": [],
   "source": [
    "#The above boxplots show us that there is not that much deviation in the ingredients between the quality-codes.  Also, there is no data for 1 and 2 or 9 and 10."
   ]
  },
  {
   "cell_type": "markdown",
   "metadata": {},
   "source": [
    "# Gathering the training and testing data"
   ]
  },
  {
   "cell_type": "code",
   "execution_count": 7,
   "metadata": {},
   "outputs": [],
   "source": [
    "#Creating three quality bins: low(1), mid(1) and high(2)\n",
    "bins = [0, 5.5, 7.5, 10] #this means 3-5 are low, 6-7 are mid, 8-9 are high\n",
    "labels = [0, 1, 2]\n",
    "wine_df['quality'] = pd.cut(wine_df['quality'], bins=bins, labels=labels)"
   ]
  },
  {
   "cell_type": "code",
   "execution_count": 8,
   "metadata": {},
   "outputs": [
    {
     "data": {
      "text/html": [
       "<div>\n",
       "<style scoped>\n",
       "    .dataframe tbody tr th:only-of-type {\n",
       "        vertical-align: middle;\n",
       "    }\n",
       "\n",
       "    .dataframe tbody tr th {\n",
       "        vertical-align: top;\n",
       "    }\n",
       "\n",
       "    .dataframe thead th {\n",
       "        text-align: right;\n",
       "    }\n",
       "</style>\n",
       "<table border=\"1\" class=\"dataframe\">\n",
       "  <thead>\n",
       "    <tr style=\"text-align: right;\">\n",
       "      <th></th>\n",
       "      <th>fixed acidity</th>\n",
       "      <th>volatile acidity</th>\n",
       "      <th>citric acid</th>\n",
       "      <th>residual sugar</th>\n",
       "      <th>chlorides</th>\n",
       "      <th>free sulfur dioxide</th>\n",
       "      <th>total sulfur dioxide</th>\n",
       "      <th>density</th>\n",
       "      <th>pH</th>\n",
       "      <th>sulfates</th>\n",
       "      <th>alcohol</th>\n",
       "      <th>quality</th>\n",
       "    </tr>\n",
       "  </thead>\n",
       "  <tbody>\n",
       "    <tr>\n",
       "      <th>0</th>\n",
       "      <td>7.9</td>\n",
       "      <td>0.35</td>\n",
       "      <td>0.46</td>\n",
       "      <td>3.6</td>\n",
       "      <td>0.078</td>\n",
       "      <td>15.0</td>\n",
       "      <td>37.0</td>\n",
       "      <td>0.9973</td>\n",
       "      <td>3.35</td>\n",
       "      <td>0.86</td>\n",
       "      <td>12.8</td>\n",
       "      <td>2</td>\n",
       "    </tr>\n",
       "    <tr>\n",
       "      <th>1</th>\n",
       "      <td>10.3</td>\n",
       "      <td>0.32</td>\n",
       "      <td>0.45</td>\n",
       "      <td>6.4</td>\n",
       "      <td>0.073</td>\n",
       "      <td>5.0</td>\n",
       "      <td>13.0</td>\n",
       "      <td>0.9976</td>\n",
       "      <td>3.23</td>\n",
       "      <td>0.82</td>\n",
       "      <td>12.6</td>\n",
       "      <td>2</td>\n",
       "    </tr>\n",
       "    <tr>\n",
       "      <th>2</th>\n",
       "      <td>5.6</td>\n",
       "      <td>0.85</td>\n",
       "      <td>0.05</td>\n",
       "      <td>1.4</td>\n",
       "      <td>0.045</td>\n",
       "      <td>12.0</td>\n",
       "      <td>88.0</td>\n",
       "      <td>0.9924</td>\n",
       "      <td>3.56</td>\n",
       "      <td>0.82</td>\n",
       "      <td>12.9</td>\n",
       "      <td>2</td>\n",
       "    </tr>\n",
       "    <tr>\n",
       "      <th>3</th>\n",
       "      <td>12.6</td>\n",
       "      <td>0.31</td>\n",
       "      <td>0.72</td>\n",
       "      <td>2.2</td>\n",
       "      <td>0.072</td>\n",
       "      <td>6.0</td>\n",
       "      <td>29.0</td>\n",
       "      <td>0.9987</td>\n",
       "      <td>2.88</td>\n",
       "      <td>0.82</td>\n",
       "      <td>9.8</td>\n",
       "      <td>2</td>\n",
       "    </tr>\n",
       "    <tr>\n",
       "      <th>4</th>\n",
       "      <td>11.3</td>\n",
       "      <td>0.62</td>\n",
       "      <td>0.67</td>\n",
       "      <td>5.2</td>\n",
       "      <td>0.086</td>\n",
       "      <td>6.0</td>\n",
       "      <td>19.0</td>\n",
       "      <td>0.9988</td>\n",
       "      <td>3.22</td>\n",
       "      <td>0.69</td>\n",
       "      <td>13.4</td>\n",
       "      <td>2</td>\n",
       "    </tr>\n",
       "  </tbody>\n",
       "</table>\n",
       "</div>"
      ],
      "text/plain": [
       "   fixed acidity  volatile acidity  citric acid  residual sugar  chlorides  \\\n",
       "0            7.9              0.35         0.46             3.6      0.078   \n",
       "1           10.3              0.32         0.45             6.4      0.073   \n",
       "2            5.6              0.85         0.05             1.4      0.045   \n",
       "3           12.6              0.31         0.72             2.2      0.072   \n",
       "4           11.3              0.62         0.67             5.2      0.086   \n",
       "\n",
       "   free sulfur dioxide  total sulfur dioxide  density    pH  sulfates  \\\n",
       "0                 15.0                  37.0   0.9973  3.35      0.86   \n",
       "1                  5.0                  13.0   0.9976  3.23      0.82   \n",
       "2                 12.0                  88.0   0.9924  3.56      0.82   \n",
       "3                  6.0                  29.0   0.9987  2.88      0.82   \n",
       "4                  6.0                  19.0   0.9988  3.22      0.69   \n",
       "\n",
       "   alcohol quality  \n",
       "0     12.8       2  \n",
       "1     12.6       2  \n",
       "2     12.9       2  \n",
       "3      9.8       2  \n",
       "4     13.4       2  "
      ]
     },
     "execution_count": 8,
     "metadata": {},
     "output_type": "execute_result"
    }
   ],
   "source": [
    "wine_df.head()"
   ]
  },
  {
   "cell_type": "code",
   "execution_count": 9,
   "metadata": {},
   "outputs": [],
   "source": [
    "# Standardize the data\n",
    "x = wine_df[wine_df.columns[:-1]]\n",
    "y = wine_df['quality']\n",
    "sc = StandardScaler()\n",
    "x = sc.fit_transform(x)\n",
    "\n",
    "x_train, x_test, y_train, y_test = train_test_split(x, y, test_size=.2, random_state=42) # this translates to 80% training data and 20% (.2) testing data"
   ]
  },
  {
   "cell_type": "code",
   "execution_count": 10,
   "metadata": {},
   "outputs": [
    {
     "name": "stdout",
     "output_type": "stream",
     "text": [
      "count     1279\n",
      "unique       3\n",
      "top          1\n",
      "freq       662\n",
      "Name: quality, dtype: int64\n",
      "count     320\n",
      "unique      3\n",
      "top         1\n",
      "freq      175\n",
      "Name: quality, dtype: int64\n"
     ]
    }
   ],
   "source": [
    "for data in [y_train, y_test]:\n",
    "    print(data.describe())"
   ]
  },
  {
   "cell_type": "markdown",
   "metadata": {},
   "source": [
    "# K-Nearest Neighbor"
   ]
  },
  {
   "cell_type": "code",
   "execution_count": 11,
   "metadata": {},
   "outputs": [
    {
     "name": "stdout",
     "output_type": "stream",
     "text": [
      "              precision    recall  f1-score   support\n",
      "\n",
      "           0       0.72      0.69      0.70       144\n",
      "           1       0.75      0.78      0.76       175\n",
      "           2       0.00      0.00      0.00         1\n",
      "\n",
      "    accuracy                           0.73       320\n",
      "   macro avg       0.49      0.49      0.49       320\n",
      "weighted avg       0.74      0.73      0.73       320\n",
      "\n",
      "0.7036724901574802\n"
     ]
    }
   ],
   "source": [
    "n3 = KNeighborsClassifier(n_neighbors = 3)\n",
    "n3.fit(x_train, y_train)\n",
    "pred_n3 = n3.predict(x_test)\n",
    "print(classification_report(y_test, pred_n3))\n",
    "cross_val = cross_val_score(estimator=n3, X=x_train, y=y_train, cv=10)\n",
    "print(cross_val.mean())"
   ]
  },
  {
   "cell_type": "code",
   "execution_count": 12,
   "metadata": {},
   "outputs": [
    {
     "name": "stdout",
     "output_type": "stream",
     "text": [
      "              precision    recall  f1-score   support\n",
      "\n",
      "           0       0.71      0.64      0.67       144\n",
      "           1       0.72      0.79      0.75       175\n",
      "           2       0.00      0.00      0.00         1\n",
      "\n",
      "    accuracy                           0.72       320\n",
      "   macro avg       0.48      0.48      0.48       320\n",
      "weighted avg       0.72      0.72      0.72       320\n",
      "\n",
      "0.7107221948818898\n"
     ]
    },
    {
     "name": "stderr",
     "output_type": "stream",
     "text": [
      "C:\\Users\\kate_\\anaconda3\\envs\\PythonData\\lib\\site-packages\\sklearn\\metrics\\_classification.py:1248: UndefinedMetricWarning: Precision and F-score are ill-defined and being set to 0.0 in labels with no predicted samples. Use `zero_division` parameter to control this behavior.\n",
      "  _warn_prf(average, modifier, msg_start, len(result))\n",
      "C:\\Users\\kate_\\anaconda3\\envs\\PythonData\\lib\\site-packages\\sklearn\\metrics\\_classification.py:1248: UndefinedMetricWarning: Precision and F-score are ill-defined and being set to 0.0 in labels with no predicted samples. Use `zero_division` parameter to control this behavior.\n",
      "  _warn_prf(average, modifier, msg_start, len(result))\n",
      "C:\\Users\\kate_\\anaconda3\\envs\\PythonData\\lib\\site-packages\\sklearn\\metrics\\_classification.py:1248: UndefinedMetricWarning: Precision and F-score are ill-defined and being set to 0.0 in labels with no predicted samples. Use `zero_division` parameter to control this behavior.\n",
      "  _warn_prf(average, modifier, msg_start, len(result))\n"
     ]
    }
   ],
   "source": [
    "n5 = KNeighborsClassifier(n_neighbors = 5)\n",
    "n5.fit(x_train, y_train)\n",
    "pred_n5 = n5.predict(x_test)\n",
    "print(classification_report(y_test, pred_n5))\n",
    "cross_val = cross_val_score(estimator=n5, X=x_train, y=y_train, cv=10)\n",
    "print(cross_val.mean())"
   ]
  },
  {
   "cell_type": "code",
   "execution_count": 13,
   "metadata": {},
   "outputs": [],
   "source": [
    "# Accuracy rate for 3 nearest neighbors is approx. 71%, for 5 nearest neighbors is approx. 70%."
   ]
  },
  {
   "cell_type": "markdown",
   "metadata": {},
   "source": [
    "# Random Forest Classifier"
   ]
  },
  {
   "cell_type": "code",
   "execution_count": 14,
   "metadata": {},
   "outputs": [
    {
     "name": "stderr",
     "output_type": "stream",
     "text": [
      "C:\\Users\\kate_\\anaconda3\\envs\\PythonData\\lib\\site-packages\\sklearn\\metrics\\_classification.py:1248: UndefinedMetricWarning: Precision and F-score are ill-defined and being set to 0.0 in labels with no predicted samples. Use `zero_division` parameter to control this behavior.\n",
      "  _warn_prf(average, modifier, msg_start, len(result))\n",
      "C:\\Users\\kate_\\anaconda3\\envs\\PythonData\\lib\\site-packages\\sklearn\\metrics\\_classification.py:1248: UndefinedMetricWarning: Precision and F-score are ill-defined and being set to 0.0 in labels with no predicted samples. Use `zero_division` parameter to control this behavior.\n",
      "  _warn_prf(average, modifier, msg_start, len(result))\n",
      "C:\\Users\\kate_\\anaconda3\\envs\\PythonData\\lib\\site-packages\\sklearn\\metrics\\_classification.py:1248: UndefinedMetricWarning: Precision and F-score are ill-defined and being set to 0.0 in labels with no predicted samples. Use `zero_division` parameter to control this behavior.\n",
      "  _warn_prf(average, modifier, msg_start, len(result))\n"
     ]
    },
    {
     "name": "stdout",
     "output_type": "stream",
     "text": [
      "              precision    recall  f1-score   support\n",
      "\n",
      "           0       0.78      0.79      0.79       144\n",
      "           1       0.82      0.82      0.82       175\n",
      "           2       0.00      0.00      0.00         1\n",
      "\n",
      "    accuracy                           0.80       320\n",
      "   macro avg       0.53      0.54      0.54       320\n",
      "weighted avg       0.80      0.80      0.80       320\n",
      "\n",
      "0.791240157480315\n"
     ]
    }
   ],
   "source": [
    "rf = RandomForestClassifier()\n",
    "rf.fit(x_train, y_train)\n",
    "pred_rf = rf.predict(x_test)\n",
    "print(classification_report(y_test, pred_rf))\n",
    "cross_val = cross_val_score(estimator=rf, X=x_train, y=y_train, cv=10)\n",
    "print(cross_val.mean())"
   ]
  },
  {
   "cell_type": "code",
   "execution_count": 15,
   "metadata": {},
   "outputs": [],
   "source": [
    "# The accuracy rate for the Random Forest Classifier is approximately 79%"
   ]
  },
  {
   "cell_type": "markdown",
   "metadata": {},
   "source": [
    "# Decision Tree Classifier"
   ]
  },
  {
   "cell_type": "code",
   "execution_count": 16,
   "metadata": {},
   "outputs": [
    {
     "name": "stdout",
     "output_type": "stream",
     "text": [
      "              precision    recall  f1-score   support\n",
      "\n",
      "           0       0.72      0.73      0.72       144\n",
      "           1       0.77      0.77      0.77       175\n",
      "           2       0.00      0.00      0.00         1\n",
      "\n",
      "    accuracy                           0.75       320\n",
      "   macro avg       0.50      0.50      0.50       320\n",
      "weighted avg       0.75      0.75      0.75       320\n",
      "\n",
      "0.7255967027559056\n"
     ]
    }
   ],
   "source": [
    "dt = DecisionTreeClassifier()\n",
    "dt.fit(x_train, y_train)\n",
    "pred_dt = dt.predict(x_test)\n",
    "print(classification_report(y_test, pred_dt))\n",
    "cross_val = cross_val_score(estimator=dt, X=x_train, y=y_train, cv=10)\n",
    "print(cross_val.mean())"
   ]
  },
  {
   "cell_type": "code",
   "execution_count": 17,
   "metadata": {},
   "outputs": [],
   "source": [
    "# The accuracy rate for the Decision Tree Classifier is approximately 73%"
   ]
  },
  {
   "cell_type": "markdown",
   "metadata": {},
   "source": [
    "# Stochastic Gradient Descent"
   ]
  },
  {
   "cell_type": "code",
   "execution_count": 18,
   "metadata": {},
   "outputs": [
    {
     "name": "stdout",
     "output_type": "stream",
     "text": [
      "              precision    recall  f1-score   support\n",
      "\n",
      "           0       0.72      0.73      0.72       144\n",
      "           1       0.77      0.77      0.77       175\n",
      "           2       0.00      0.00      0.00         1\n",
      "\n",
      "    accuracy                           0.75       320\n",
      "   macro avg       0.50      0.50      0.50       320\n",
      "weighted avg       0.75      0.75      0.75       320\n",
      "\n",
      "0.7083907480314962\n"
     ]
    }
   ],
   "source": [
    "sgd = SGDClassifier()\n",
    "sgd.fit(x_train, y_train)\n",
    "pred_sgd = sgd.predict(x_test)\n",
    "print(classification_report(y_test, pred_dt))\n",
    "cross_val = cross_val_score(estimator=sgd, X=x_train, y=y_train, cv=10)\n",
    "print(cross_val.mean())"
   ]
  },
  {
   "cell_type": "code",
   "execution_count": 19,
   "metadata": {},
   "outputs": [],
   "source": [
    "# The accuracy rate for the Stochastic Gradient Descent is approximately 71%"
   ]
  },
  {
   "cell_type": "markdown",
   "metadata": {},
   "source": [
    "# Trying to improve results"
   ]
  },
  {
   "cell_type": "code",
   "execution_count": 20,
   "metadata": {},
   "outputs": [
    {
     "name": "stdout",
     "output_type": "stream",
     "text": [
      "Fitting 3 folds for each of 100 candidates, totalling 300 fits\n",
      "[CV] END bootstrap=True, max_depth=10, max_features=sqrt, min_samples_leaf=2, min_samples_split=10, n_estimators=1000; total time=   1.9s\n",
      "[CV] END bootstrap=True, max_depth=10, max_features=sqrt, min_samples_leaf=2, min_samples_split=10, n_estimators=1000; total time=   1.9s\n",
      "[CV] END bootstrap=True, max_depth=10, max_features=sqrt, min_samples_leaf=2, min_samples_split=10, n_estimators=1000; total time=   1.9s\n",
      "[CV] END bootstrap=True, max_depth=65, max_features=sqrt, min_samples_leaf=2, min_samples_split=2, n_estimators=577; total time=   1.1s\n",
      "[CV] END bootstrap=True, max_depth=65, max_features=sqrt, min_samples_leaf=2, min_samples_split=2, n_estimators=577; total time=   1.1s\n",
      "[CV] END bootstrap=True, max_depth=65, max_features=sqrt, min_samples_leaf=2, min_samples_split=2, n_estimators=577; total time=   1.1s\n",
      "[CV] END bootstrap=True, max_depth=None, max_features=auto, min_samples_leaf=2, min_samples_split=5, n_estimators=683; total time=   1.3s\n",
      "[CV] END bootstrap=True, max_depth=None, max_features=auto, min_samples_leaf=2, min_samples_split=5, n_estimators=683; total time=   1.3s\n",
      "[CV] END bootstrap=True, max_depth=None, max_features=auto, min_samples_leaf=2, min_samples_split=5, n_estimators=683; total time=   1.3s\n",
      "[CV] END bootstrap=True, max_depth=54, max_features=auto, min_samples_leaf=1, min_samples_split=2, n_estimators=50; total time=   0.0s\n",
      "[CV] END bootstrap=True, max_depth=54, max_features=auto, min_samples_leaf=1, min_samples_split=2, n_estimators=50; total time=   0.0s\n",
      "[CV] END bootstrap=True, max_depth=54, max_features=auto, min_samples_leaf=1, min_samples_split=2, n_estimators=50; total time=   0.0s\n",
      "[CV] END bootstrap=True, max_depth=21, max_features=sqrt, min_samples_leaf=2, min_samples_split=10, n_estimators=577; total time=   1.1s\n",
      "[CV] END bootstrap=True, max_depth=21, max_features=sqrt, min_samples_leaf=2, min_samples_split=10, n_estimators=577; total time=   1.1s\n",
      "[CV] END bootstrap=True, max_depth=21, max_features=sqrt, min_samples_leaf=2, min_samples_split=10, n_estimators=577; total time=   1.1s\n",
      "[CV] END bootstrap=True, max_depth=54, max_features=sqrt, min_samples_leaf=2, min_samples_split=5, n_estimators=788; total time=   1.6s\n",
      "[CV] END bootstrap=True, max_depth=54, max_features=sqrt, min_samples_leaf=2, min_samples_split=5, n_estimators=788; total time=   1.5s\n",
      "[CV] END bootstrap=True, max_depth=54, max_features=sqrt, min_samples_leaf=2, min_samples_split=5, n_estimators=788; total time=   1.5s\n",
      "[CV] END bootstrap=False, max_depth=76, max_features=sqrt, min_samples_leaf=1, min_samples_split=2, n_estimators=366; total time=   0.8s\n",
      "[CV] END bootstrap=False, max_depth=76, max_features=sqrt, min_samples_leaf=1, min_samples_split=2, n_estimators=366; total time=   0.7s\n",
      "[CV] END bootstrap=False, max_depth=76, max_features=sqrt, min_samples_leaf=1, min_samples_split=2, n_estimators=366; total time=   0.8s\n",
      "[CV] END bootstrap=True, max_depth=32, max_features=auto, min_samples_leaf=2, min_samples_split=5, n_estimators=894; total time=   1.8s\n",
      "[CV] END bootstrap=True, max_depth=32, max_features=auto, min_samples_leaf=2, min_samples_split=5, n_estimators=894; total time=   1.8s\n",
      "[CV] END bootstrap=True, max_depth=32, max_features=auto, min_samples_leaf=2, min_samples_split=5, n_estimators=894; total time=   1.8s\n",
      "[CV] END bootstrap=False, max_depth=54, max_features=sqrt, min_samples_leaf=2, min_samples_split=2, n_estimators=261; total time=   0.5s\n",
      "[CV] END bootstrap=False, max_depth=54, max_features=sqrt, min_samples_leaf=2, min_samples_split=2, n_estimators=261; total time=   0.5s\n",
      "[CV] END bootstrap=False, max_depth=54, max_features=sqrt, min_samples_leaf=2, min_samples_split=2, n_estimators=261; total time=   0.5s\n",
      "[CV] END bootstrap=False, max_depth=98, max_features=sqrt, min_samples_leaf=4, min_samples_split=5, n_estimators=472; total time=   0.9s\n",
      "[CV] END bootstrap=False, max_depth=98, max_features=sqrt, min_samples_leaf=4, min_samples_split=5, n_estimators=472; total time=   0.9s\n",
      "[CV] END bootstrap=False, max_depth=98, max_features=sqrt, min_samples_leaf=4, min_samples_split=5, n_estimators=472; total time=   0.9s\n",
      "[CV] END bootstrap=False, max_depth=87, max_features=auto, min_samples_leaf=1, min_samples_split=10, n_estimators=894; total time=   1.9s\n",
      "[CV] END bootstrap=False, max_depth=87, max_features=auto, min_samples_leaf=1, min_samples_split=10, n_estimators=894; total time=   2.0s\n",
      "[CV] END bootstrap=False, max_depth=87, max_features=auto, min_samples_leaf=1, min_samples_split=10, n_estimators=894; total time=   2.0s\n",
      "[CV] END bootstrap=False, max_depth=98, max_features=auto, min_samples_leaf=4, min_samples_split=2, n_estimators=1000; total time=   2.2s\n",
      "[CV] END bootstrap=False, max_depth=98, max_features=auto, min_samples_leaf=4, min_samples_split=2, n_estimators=1000; total time=   2.1s\n",
      "[CV] END bootstrap=False, max_depth=98, max_features=auto, min_samples_leaf=4, min_samples_split=2, n_estimators=1000; total time=   2.5s\n",
      "[CV] END bootstrap=False, max_depth=98, max_features=auto, min_samples_leaf=2, min_samples_split=10, n_estimators=1000; total time=   2.1s\n",
      "[CV] END bootstrap=False, max_depth=98, max_features=auto, min_samples_leaf=2, min_samples_split=10, n_estimators=1000; total time=   2.1s\n",
      "[CV] END bootstrap=False, max_depth=98, max_features=auto, min_samples_leaf=2, min_samples_split=10, n_estimators=1000; total time=   2.1s\n",
      "[CV] END bootstrap=True, max_depth=21, max_features=sqrt, min_samples_leaf=4, min_samples_split=10, n_estimators=472; total time=   0.9s\n",
      "[CV] END bootstrap=True, max_depth=21, max_features=sqrt, min_samples_leaf=4, min_samples_split=10, n_estimators=472; total time=   0.8s\n",
      "[CV] END bootstrap=True, max_depth=21, max_features=sqrt, min_samples_leaf=4, min_samples_split=10, n_estimators=472; total time=   0.9s\n",
      "[CV] END bootstrap=False, max_depth=98, max_features=sqrt, min_samples_leaf=1, min_samples_split=2, n_estimators=155; total time=   0.3s\n",
      "[CV] END bootstrap=False, max_depth=98, max_features=sqrt, min_samples_leaf=1, min_samples_split=2, n_estimators=155; total time=   0.3s\n",
      "[CV] END bootstrap=False, max_depth=98, max_features=sqrt, min_samples_leaf=1, min_samples_split=2, n_estimators=155; total time=   0.3s\n",
      "[CV] END bootstrap=False, max_depth=10, max_features=sqrt, min_samples_leaf=4, min_samples_split=10, n_estimators=1000; total time=   1.9s\n",
      "[CV] END bootstrap=False, max_depth=10, max_features=sqrt, min_samples_leaf=4, min_samples_split=10, n_estimators=1000; total time=   2.0s\n",
      "[CV] END bootstrap=False, max_depth=10, max_features=sqrt, min_samples_leaf=4, min_samples_split=10, n_estimators=1000; total time=   2.0s\n",
      "[CV] END bootstrap=False, max_depth=43, max_features=sqrt, min_samples_leaf=2, min_samples_split=5, n_estimators=50; total time=   0.0s\n",
      "[CV] END bootstrap=False, max_depth=43, max_features=sqrt, min_samples_leaf=2, min_samples_split=5, n_estimators=50; total time=   0.0s\n",
      "[CV] END bootstrap=False, max_depth=43, max_features=sqrt, min_samples_leaf=2, min_samples_split=5, n_estimators=50; total time=   0.0s\n",
      "[CV] END bootstrap=False, max_depth=76, max_features=auto, min_samples_leaf=2, min_samples_split=2, n_estimators=577; total time=   1.2s\n",
      "[CV] END bootstrap=False, max_depth=76, max_features=auto, min_samples_leaf=2, min_samples_split=2, n_estimators=577; total time=   1.2s\n",
      "[CV] END bootstrap=False, max_depth=76, max_features=auto, min_samples_leaf=2, min_samples_split=2, n_estimators=577; total time=   1.2s\n",
      "[CV] END bootstrap=False, max_depth=32, max_features=sqrt, min_samples_leaf=4, min_samples_split=5, n_estimators=683; total time=   1.3s\n",
      "[CV] END bootstrap=False, max_depth=32, max_features=sqrt, min_samples_leaf=4, min_samples_split=5, n_estimators=683; total time=   1.3s\n",
      "[CV] END bootstrap=False, max_depth=32, max_features=sqrt, min_samples_leaf=4, min_samples_split=5, n_estimators=683; total time=   1.4s\n",
      "[CV] END bootstrap=True, max_depth=76, max_features=sqrt, min_samples_leaf=1, min_samples_split=5, n_estimators=1000; total time=   2.1s\n",
      "[CV] END bootstrap=True, max_depth=76, max_features=sqrt, min_samples_leaf=1, min_samples_split=5, n_estimators=1000; total time=   2.1s\n",
      "[CV] END bootstrap=True, max_depth=76, max_features=sqrt, min_samples_leaf=1, min_samples_split=5, n_estimators=1000; total time=   2.0s\n"
     ]
    },
    {
     "name": "stdout",
     "output_type": "stream",
     "text": [
      "[CV] END bootstrap=True, max_depth=None, max_features=auto, min_samples_leaf=4, min_samples_split=5, n_estimators=472; total time=   0.9s\n",
      "[CV] END bootstrap=True, max_depth=None, max_features=auto, min_samples_leaf=4, min_samples_split=5, n_estimators=472; total time=   0.9s\n",
      "[CV] END bootstrap=True, max_depth=None, max_features=auto, min_samples_leaf=4, min_samples_split=5, n_estimators=472; total time=   0.9s\n",
      "[CV] END bootstrap=False, max_depth=32, max_features=auto, min_samples_leaf=4, min_samples_split=2, n_estimators=50; total time=   0.0s\n",
      "[CV] END bootstrap=False, max_depth=32, max_features=auto, min_samples_leaf=4, min_samples_split=2, n_estimators=50; total time=   0.0s\n",
      "[CV] END bootstrap=False, max_depth=32, max_features=auto, min_samples_leaf=4, min_samples_split=2, n_estimators=50; total time=   0.0s\n",
      "[CV] END bootstrap=True, max_depth=76, max_features=sqrt, min_samples_leaf=4, min_samples_split=2, n_estimators=155; total time=   0.2s\n",
      "[CV] END bootstrap=True, max_depth=76, max_features=sqrt, min_samples_leaf=4, min_samples_split=2, n_estimators=155; total time=   0.2s\n",
      "[CV] END bootstrap=True, max_depth=76, max_features=sqrt, min_samples_leaf=4, min_samples_split=2, n_estimators=155; total time=   0.2s\n",
      "[CV] END bootstrap=False, max_depth=98, max_features=sqrt, min_samples_leaf=2, min_samples_split=5, n_estimators=788; total time=   1.7s\n",
      "[CV] END bootstrap=False, max_depth=98, max_features=sqrt, min_samples_leaf=2, min_samples_split=5, n_estimators=788; total time=   1.7s\n",
      "[CV] END bootstrap=False, max_depth=98, max_features=sqrt, min_samples_leaf=2, min_samples_split=5, n_estimators=788; total time=   1.7s\n",
      "[CV] END bootstrap=False, max_depth=None, max_features=sqrt, min_samples_leaf=1, min_samples_split=2, n_estimators=50; total time=   0.0s\n",
      "[CV] END bootstrap=False, max_depth=None, max_features=sqrt, min_samples_leaf=1, min_samples_split=2, n_estimators=50; total time=   0.0s\n",
      "[CV] END bootstrap=False, max_depth=None, max_features=sqrt, min_samples_leaf=1, min_samples_split=2, n_estimators=50; total time=   0.0s\n",
      "[CV] END bootstrap=True, max_depth=21, max_features=sqrt, min_samples_leaf=1, min_samples_split=2, n_estimators=50; total time=   0.0s\n",
      "[CV] END bootstrap=True, max_depth=21, max_features=sqrt, min_samples_leaf=1, min_samples_split=2, n_estimators=50; total time=   0.0s\n",
      "[CV] END bootstrap=True, max_depth=21, max_features=sqrt, min_samples_leaf=1, min_samples_split=2, n_estimators=50; total time=   0.0s\n",
      "[CV] END bootstrap=False, max_depth=21, max_features=auto, min_samples_leaf=1, min_samples_split=5, n_estimators=894; total time=   2.0s\n",
      "[CV] END bootstrap=False, max_depth=21, max_features=auto, min_samples_leaf=1, min_samples_split=5, n_estimators=894; total time=   2.0s\n",
      "[CV] END bootstrap=False, max_depth=21, max_features=auto, min_samples_leaf=1, min_samples_split=5, n_estimators=894; total time=   2.0s\n",
      "[CV] END bootstrap=True, max_depth=98, max_features=sqrt, min_samples_leaf=4, min_samples_split=10, n_estimators=50; total time=   0.0s\n",
      "[CV] END bootstrap=True, max_depth=98, max_features=sqrt, min_samples_leaf=4, min_samples_split=10, n_estimators=50; total time=   0.0s\n",
      "[CV] END bootstrap=True, max_depth=98, max_features=sqrt, min_samples_leaf=4, min_samples_split=10, n_estimators=50; total time=   0.0s\n",
      "[CV] END bootstrap=True, max_depth=110, max_features=sqrt, min_samples_leaf=2, min_samples_split=2, n_estimators=577; total time=   1.2s\n",
      "[CV] END bootstrap=True, max_depth=110, max_features=sqrt, min_samples_leaf=2, min_samples_split=2, n_estimators=577; total time=   1.1s\n",
      "[CV] END bootstrap=True, max_depth=110, max_features=sqrt, min_samples_leaf=2, min_samples_split=2, n_estimators=577; total time=   1.2s\n",
      "[CV] END bootstrap=True, max_depth=110, max_features=sqrt, min_samples_leaf=4, min_samples_split=10, n_estimators=577; total time=   1.1s\n",
      "[CV] END bootstrap=True, max_depth=110, max_features=sqrt, min_samples_leaf=4, min_samples_split=10, n_estimators=577; total time=   1.1s\n",
      "[CV] END bootstrap=True, max_depth=110, max_features=sqrt, min_samples_leaf=4, min_samples_split=10, n_estimators=577; total time=   1.1s\n",
      "[CV] END bootstrap=True, max_depth=21, max_features=auto, min_samples_leaf=2, min_samples_split=2, n_estimators=155; total time=   0.2s\n",
      "[CV] END bootstrap=True, max_depth=21, max_features=auto, min_samples_leaf=2, min_samples_split=2, n_estimators=155; total time=   0.2s\n",
      "[CV] END bootstrap=True, max_depth=21, max_features=auto, min_samples_leaf=2, min_samples_split=2, n_estimators=155; total time=   0.3s\n",
      "[CV] END bootstrap=False, max_depth=87, max_features=sqrt, min_samples_leaf=2, min_samples_split=5, n_estimators=788; total time=   1.7s\n",
      "[CV] END bootstrap=False, max_depth=87, max_features=sqrt, min_samples_leaf=2, min_samples_split=5, n_estimators=788; total time=   1.8s\n",
      "[CV] END bootstrap=False, max_depth=87, max_features=sqrt, min_samples_leaf=2, min_samples_split=5, n_estimators=788; total time=   1.9s\n",
      "[CV] END bootstrap=True, max_depth=110, max_features=auto, min_samples_leaf=1, min_samples_split=10, n_estimators=155; total time=   0.3s\n",
      "[CV] END bootstrap=True, max_depth=110, max_features=auto, min_samples_leaf=1, min_samples_split=10, n_estimators=155; total time=   0.3s\n",
      "[CV] END bootstrap=True, max_depth=110, max_features=auto, min_samples_leaf=1, min_samples_split=10, n_estimators=155; total time=   0.3s\n",
      "[CV] END bootstrap=False, max_depth=76, max_features=auto, min_samples_leaf=4, min_samples_split=2, n_estimators=1000; total time=   2.1s\n",
      "[CV] END bootstrap=False, max_depth=76, max_features=auto, min_samples_leaf=4, min_samples_split=2, n_estimators=1000; total time=   2.0s\n",
      "[CV] END bootstrap=False, max_depth=76, max_features=auto, min_samples_leaf=4, min_samples_split=2, n_estimators=1000; total time=   2.1s\n",
      "[CV] END bootstrap=True, max_depth=10, max_features=auto, min_samples_leaf=1, min_samples_split=5, n_estimators=472; total time=   0.9s\n",
      "[CV] END bootstrap=True, max_depth=10, max_features=auto, min_samples_leaf=1, min_samples_split=5, n_estimators=472; total time=   0.9s\n",
      "[CV] END bootstrap=True, max_depth=10, max_features=auto, min_samples_leaf=1, min_samples_split=5, n_estimators=472; total time=   0.9s\n",
      "[CV] END bootstrap=False, max_depth=54, max_features=sqrt, min_samples_leaf=2, min_samples_split=2, n_estimators=50; total time=   0.0s\n",
      "[CV] END bootstrap=False, max_depth=54, max_features=sqrt, min_samples_leaf=2, min_samples_split=2, n_estimators=50; total time=   0.0s\n",
      "[CV] END bootstrap=False, max_depth=54, max_features=sqrt, min_samples_leaf=2, min_samples_split=2, n_estimators=50; total time=   0.0s\n",
      "[CV] END bootstrap=True, max_depth=None, max_features=sqrt, min_samples_leaf=1, min_samples_split=10, n_estimators=261; total time=   0.4s\n",
      "[CV] END bootstrap=True, max_depth=None, max_features=sqrt, min_samples_leaf=1, min_samples_split=10, n_estimators=261; total time=   0.4s\n",
      "[CV] END bootstrap=True, max_depth=None, max_features=sqrt, min_samples_leaf=1, min_samples_split=10, n_estimators=261; total time=   0.4s\n",
      "[CV] END bootstrap=False, max_depth=32, max_features=sqrt, min_samples_leaf=4, min_samples_split=5, n_estimators=50; total time=   0.0s\n",
      "[CV] END bootstrap=False, max_depth=32, max_features=sqrt, min_samples_leaf=4, min_samples_split=5, n_estimators=50; total time=   0.0s\n",
      "[CV] END bootstrap=False, max_depth=32, max_features=sqrt, min_samples_leaf=4, min_samples_split=5, n_estimators=50; total time=   0.0s\n",
      "[CV] END bootstrap=False, max_depth=21, max_features=sqrt, min_samples_leaf=1, min_samples_split=5, n_estimators=894; total time=   2.0s\n",
      "[CV] END bootstrap=False, max_depth=21, max_features=sqrt, min_samples_leaf=1, min_samples_split=5, n_estimators=894; total time=   1.9s\n",
      "[CV] END bootstrap=False, max_depth=21, max_features=sqrt, min_samples_leaf=1, min_samples_split=5, n_estimators=894; total time=   2.0s\n",
      "[CV] END bootstrap=False, max_depth=87, max_features=sqrt, min_samples_leaf=2, min_samples_split=2, n_estimators=155; total time=   0.3s\n",
      "[CV] END bootstrap=False, max_depth=87, max_features=sqrt, min_samples_leaf=2, min_samples_split=2, n_estimators=155; total time=   0.3s\n",
      "[CV] END bootstrap=False, max_depth=87, max_features=sqrt, min_samples_leaf=2, min_samples_split=2, n_estimators=155; total time=   0.3s\n"
     ]
    },
    {
     "name": "stdout",
     "output_type": "stream",
     "text": [
      "[CV] END bootstrap=False, max_depth=10, max_features=auto, min_samples_leaf=1, min_samples_split=10, n_estimators=366; total time=   0.7s\n",
      "[CV] END bootstrap=False, max_depth=10, max_features=auto, min_samples_leaf=1, min_samples_split=10, n_estimators=366; total time=   0.7s\n",
      "[CV] END bootstrap=False, max_depth=10, max_features=auto, min_samples_leaf=1, min_samples_split=10, n_estimators=366; total time=   0.7s\n",
      "[CV] END bootstrap=False, max_depth=None, max_features=auto, min_samples_leaf=1, min_samples_split=5, n_estimators=50; total time=   0.0s\n",
      "[CV] END bootstrap=False, max_depth=None, max_features=auto, min_samples_leaf=1, min_samples_split=5, n_estimators=50; total time=   0.0s\n",
      "[CV] END bootstrap=False, max_depth=None, max_features=auto, min_samples_leaf=1, min_samples_split=5, n_estimators=50; total time=   0.0s\n",
      "[CV] END bootstrap=True, max_depth=65, max_features=auto, min_samples_leaf=1, min_samples_split=5, n_estimators=261; total time=   0.5s\n",
      "[CV] END bootstrap=True, max_depth=65, max_features=auto, min_samples_leaf=1, min_samples_split=5, n_estimators=261; total time=   0.5s\n",
      "[CV] END bootstrap=True, max_depth=65, max_features=auto, min_samples_leaf=1, min_samples_split=5, n_estimators=261; total time=   0.5s\n",
      "[CV] END bootstrap=True, max_depth=21, max_features=auto, min_samples_leaf=4, min_samples_split=2, n_estimators=50; total time=   0.0s\n",
      "[CV] END bootstrap=True, max_depth=21, max_features=auto, min_samples_leaf=4, min_samples_split=2, n_estimators=50; total time=   0.0s\n",
      "[CV] END bootstrap=True, max_depth=21, max_features=auto, min_samples_leaf=4, min_samples_split=2, n_estimators=50; total time=   0.0s\n",
      "[CV] END bootstrap=True, max_depth=54, max_features=sqrt, min_samples_leaf=1, min_samples_split=2, n_estimators=894; total time=   1.9s\n",
      "[CV] END bootstrap=True, max_depth=54, max_features=sqrt, min_samples_leaf=1, min_samples_split=2, n_estimators=894; total time=   1.8s\n",
      "[CV] END bootstrap=True, max_depth=54, max_features=sqrt, min_samples_leaf=1, min_samples_split=2, n_estimators=894; total time=   1.9s\n",
      "[CV] END bootstrap=True, max_depth=54, max_features=sqrt, min_samples_leaf=4, min_samples_split=10, n_estimators=788; total time=   1.5s\n",
      "[CV] END bootstrap=True, max_depth=54, max_features=sqrt, min_samples_leaf=4, min_samples_split=10, n_estimators=788; total time=   1.4s\n",
      "[CV] END bootstrap=True, max_depth=54, max_features=sqrt, min_samples_leaf=4, min_samples_split=10, n_estimators=788; total time=   1.5s\n",
      "[CV] END bootstrap=True, max_depth=54, max_features=auto, min_samples_leaf=1, min_samples_split=10, n_estimators=472; total time=   0.9s\n",
      "[CV] END bootstrap=True, max_depth=54, max_features=auto, min_samples_leaf=1, min_samples_split=10, n_estimators=472; total time=   0.9s\n",
      "[CV] END bootstrap=True, max_depth=54, max_features=auto, min_samples_leaf=1, min_samples_split=10, n_estimators=472; total time=   0.9s\n",
      "[CV] END bootstrap=True, max_depth=10, max_features=auto, min_samples_leaf=4, min_samples_split=5, n_estimators=50; total time=   0.0s\n",
      "[CV] END bootstrap=True, max_depth=10, max_features=auto, min_samples_leaf=4, min_samples_split=5, n_estimators=50; total time=   0.0s\n",
      "[CV] END bootstrap=True, max_depth=10, max_features=auto, min_samples_leaf=4, min_samples_split=5, n_estimators=50; total time=   0.0s\n",
      "[CV] END bootstrap=True, max_depth=54, max_features=sqrt, min_samples_leaf=1, min_samples_split=5, n_estimators=1000; total time=   2.0s\n",
      "[CV] END bootstrap=True, max_depth=54, max_features=sqrt, min_samples_leaf=1, min_samples_split=5, n_estimators=1000; total time=   2.0s\n",
      "[CV] END bootstrap=True, max_depth=54, max_features=sqrt, min_samples_leaf=1, min_samples_split=5, n_estimators=1000; total time=   2.0s\n",
      "[CV] END bootstrap=False, max_depth=87, max_features=auto, min_samples_leaf=2, min_samples_split=5, n_estimators=894; total time=   1.9s\n",
      "[CV] END bootstrap=False, max_depth=87, max_features=auto, min_samples_leaf=2, min_samples_split=5, n_estimators=894; total time=   1.9s\n",
      "[CV] END bootstrap=False, max_depth=87, max_features=auto, min_samples_leaf=2, min_samples_split=5, n_estimators=894; total time=   2.0s\n",
      "[CV] END bootstrap=True, max_depth=43, max_features=auto, min_samples_leaf=1, min_samples_split=10, n_estimators=894; total time=   1.8s\n",
      "[CV] END bootstrap=True, max_depth=43, max_features=auto, min_samples_leaf=1, min_samples_split=10, n_estimators=894; total time=   1.7s\n",
      "[CV] END bootstrap=True, max_depth=43, max_features=auto, min_samples_leaf=1, min_samples_split=10, n_estimators=894; total time=   1.8s\n",
      "[CV] END bootstrap=True, max_depth=65, max_features=auto, min_samples_leaf=2, min_samples_split=2, n_estimators=261; total time=   0.5s\n",
      "[CV] END bootstrap=True, max_depth=65, max_features=auto, min_samples_leaf=2, min_samples_split=2, n_estimators=261; total time=   0.4s\n",
      "[CV] END bootstrap=True, max_depth=65, max_features=auto, min_samples_leaf=2, min_samples_split=2, n_estimators=261; total time=   0.4s\n",
      "[CV] END bootstrap=False, max_depth=None, max_features=auto, min_samples_leaf=1, min_samples_split=5, n_estimators=1000; total time=   2.3s\n",
      "[CV] END bootstrap=False, max_depth=None, max_features=auto, min_samples_leaf=1, min_samples_split=5, n_estimators=1000; total time=   2.3s\n",
      "[CV] END bootstrap=False, max_depth=None, max_features=auto, min_samples_leaf=1, min_samples_split=5, n_estimators=1000; total time=   2.3s\n",
      "[CV] END bootstrap=True, max_depth=10, max_features=auto, min_samples_leaf=1, min_samples_split=2, n_estimators=894; total time=   1.8s\n",
      "[CV] END bootstrap=True, max_depth=10, max_features=auto, min_samples_leaf=1, min_samples_split=2, n_estimators=894; total time=   1.7s\n",
      "[CV] END bootstrap=True, max_depth=10, max_features=auto, min_samples_leaf=1, min_samples_split=2, n_estimators=894; total time=   1.8s\n",
      "[CV] END bootstrap=False, max_depth=None, max_features=auto, min_samples_leaf=1, min_samples_split=10, n_estimators=788; total time=   1.7s\n",
      "[CV] END bootstrap=False, max_depth=None, max_features=auto, min_samples_leaf=1, min_samples_split=10, n_estimators=788; total time=   1.7s\n",
      "[CV] END bootstrap=False, max_depth=None, max_features=auto, min_samples_leaf=1, min_samples_split=10, n_estimators=788; total time=   1.7s\n",
      "[CV] END bootstrap=True, max_depth=32, max_features=auto, min_samples_leaf=4, min_samples_split=5, n_estimators=894; total time=   1.7s\n",
      "[CV] END bootstrap=True, max_depth=32, max_features=auto, min_samples_leaf=4, min_samples_split=5, n_estimators=894; total time=   1.7s\n",
      "[CV] END bootstrap=True, max_depth=32, max_features=auto, min_samples_leaf=4, min_samples_split=5, n_estimators=894; total time=   1.7s\n",
      "[CV] END bootstrap=True, max_depth=110, max_features=sqrt, min_samples_leaf=4, min_samples_split=2, n_estimators=788; total time=   1.5s\n",
      "[CV] END bootstrap=True, max_depth=110, max_features=sqrt, min_samples_leaf=4, min_samples_split=2, n_estimators=788; total time=   1.5s\n",
      "[CV] END bootstrap=True, max_depth=110, max_features=sqrt, min_samples_leaf=4, min_samples_split=2, n_estimators=788; total time=   1.6s\n",
      "[CV] END bootstrap=False, max_depth=98, max_features=auto, min_samples_leaf=1, min_samples_split=5, n_estimators=1000; total time=   2.3s\n",
      "[CV] END bootstrap=False, max_depth=98, max_features=auto, min_samples_leaf=1, min_samples_split=5, n_estimators=1000; total time=   2.2s\n",
      "[CV] END bootstrap=False, max_depth=98, max_features=auto, min_samples_leaf=1, min_samples_split=5, n_estimators=1000; total time=   2.3s\n",
      "[CV] END bootstrap=False, max_depth=32, max_features=sqrt, min_samples_leaf=2, min_samples_split=5, n_estimators=366; total time=   0.7s\n",
      "[CV] END bootstrap=False, max_depth=32, max_features=sqrt, min_samples_leaf=2, min_samples_split=5, n_estimators=366; total time=   0.7s\n",
      "[CV] END bootstrap=False, max_depth=32, max_features=sqrt, min_samples_leaf=2, min_samples_split=5, n_estimators=366; total time=   0.7s\n",
      "[CV] END bootstrap=True, max_depth=65, max_features=auto, min_samples_leaf=1, min_samples_split=10, n_estimators=1000; total time=   2.0s\n",
      "[CV] END bootstrap=True, max_depth=65, max_features=auto, min_samples_leaf=1, min_samples_split=10, n_estimators=1000; total time=   2.0s\n",
      "[CV] END bootstrap=True, max_depth=65, max_features=auto, min_samples_leaf=1, min_samples_split=10, n_estimators=1000; total time=   2.2s\n",
      "[CV] END bootstrap=False, max_depth=110, max_features=sqrt, min_samples_leaf=1, min_samples_split=5, n_estimators=50; total time=   0.0s\n"
     ]
    },
    {
     "name": "stdout",
     "output_type": "stream",
     "text": [
      "[CV] END bootstrap=False, max_depth=110, max_features=sqrt, min_samples_leaf=1, min_samples_split=5, n_estimators=50; total time=   0.0s\n",
      "[CV] END bootstrap=False, max_depth=110, max_features=sqrt, min_samples_leaf=1, min_samples_split=5, n_estimators=50; total time=   0.0s\n",
      "[CV] END bootstrap=False, max_depth=65, max_features=sqrt, min_samples_leaf=2, min_samples_split=10, n_estimators=683; total time=   1.4s\n",
      "[CV] END bootstrap=False, max_depth=65, max_features=sqrt, min_samples_leaf=2, min_samples_split=10, n_estimators=683; total time=   1.4s\n",
      "[CV] END bootstrap=False, max_depth=65, max_features=sqrt, min_samples_leaf=2, min_samples_split=10, n_estimators=683; total time=   1.4s\n",
      "[CV] END bootstrap=True, max_depth=65, max_features=sqrt, min_samples_leaf=1, min_samples_split=2, n_estimators=1000; total time=   2.1s\n",
      "[CV] END bootstrap=True, max_depth=65, max_features=sqrt, min_samples_leaf=1, min_samples_split=2, n_estimators=1000; total time=   2.2s\n",
      "[CV] END bootstrap=True, max_depth=65, max_features=sqrt, min_samples_leaf=1, min_samples_split=2, n_estimators=1000; total time=   2.1s\n",
      "[CV] END bootstrap=True, max_depth=110, max_features=sqrt, min_samples_leaf=2, min_samples_split=10, n_estimators=577; total time=   1.1s\n",
      "[CV] END bootstrap=True, max_depth=110, max_features=sqrt, min_samples_leaf=2, min_samples_split=10, n_estimators=577; total time=   1.1s\n",
      "[CV] END bootstrap=True, max_depth=110, max_features=sqrt, min_samples_leaf=2, min_samples_split=10, n_estimators=577; total time=   1.1s\n",
      "[CV] END bootstrap=False, max_depth=32, max_features=auto, min_samples_leaf=4, min_samples_split=2, n_estimators=155; total time=   0.2s\n",
      "[CV] END bootstrap=False, max_depth=32, max_features=auto, min_samples_leaf=4, min_samples_split=2, n_estimators=155; total time=   0.2s\n",
      "[CV] END bootstrap=False, max_depth=32, max_features=auto, min_samples_leaf=4, min_samples_split=2, n_estimators=155; total time=   0.2s\n",
      "[CV] END bootstrap=True, max_depth=54, max_features=auto, min_samples_leaf=4, min_samples_split=10, n_estimators=577; total time=   1.1s\n",
      "[CV] END bootstrap=True, max_depth=54, max_features=auto, min_samples_leaf=4, min_samples_split=10, n_estimators=577; total time=   1.0s\n",
      "[CV] END bootstrap=True, max_depth=54, max_features=auto, min_samples_leaf=4, min_samples_split=10, n_estimators=577; total time=   1.0s\n",
      "[CV] END bootstrap=False, max_depth=10, max_features=auto, min_samples_leaf=2, min_samples_split=2, n_estimators=1000; total time=   2.1s\n",
      "[CV] END bootstrap=False, max_depth=10, max_features=auto, min_samples_leaf=2, min_samples_split=2, n_estimators=1000; total time=   2.1s\n",
      "[CV] END bootstrap=False, max_depth=10, max_features=auto, min_samples_leaf=2, min_samples_split=2, n_estimators=1000; total time=   2.1s\n",
      "[CV] END bootstrap=False, max_depth=98, max_features=sqrt, min_samples_leaf=4, min_samples_split=10, n_estimators=894; total time=   1.8s\n",
      "[CV] END bootstrap=False, max_depth=98, max_features=sqrt, min_samples_leaf=4, min_samples_split=10, n_estimators=894; total time=   1.8s\n",
      "[CV] END bootstrap=False, max_depth=98, max_features=sqrt, min_samples_leaf=4, min_samples_split=10, n_estimators=894; total time=   1.8s\n",
      "[CV] END bootstrap=False, max_depth=87, max_features=sqrt, min_samples_leaf=2, min_samples_split=2, n_estimators=50; total time=   0.0s\n",
      "[CV] END bootstrap=False, max_depth=87, max_features=sqrt, min_samples_leaf=2, min_samples_split=2, n_estimators=50; total time=   0.0s\n",
      "[CV] END bootstrap=False, max_depth=87, max_features=sqrt, min_samples_leaf=2, min_samples_split=2, n_estimators=50; total time=   0.0s\n",
      "[CV] END bootstrap=True, max_depth=10, max_features=auto, min_samples_leaf=2, min_samples_split=2, n_estimators=261; total time=   0.4s\n",
      "[CV] END bootstrap=True, max_depth=10, max_features=auto, min_samples_leaf=2, min_samples_split=2, n_estimators=261; total time=   0.4s\n",
      "[CV] END bootstrap=True, max_depth=10, max_features=auto, min_samples_leaf=2, min_samples_split=2, n_estimators=261; total time=   0.5s\n",
      "[CV] END bootstrap=True, max_depth=None, max_features=auto, min_samples_leaf=1, min_samples_split=10, n_estimators=261; total time=   0.5s\n",
      "[CV] END bootstrap=True, max_depth=None, max_features=auto, min_samples_leaf=1, min_samples_split=10, n_estimators=261; total time=   0.4s\n",
      "[CV] END bootstrap=True, max_depth=None, max_features=auto, min_samples_leaf=1, min_samples_split=10, n_estimators=261; total time=   0.4s\n",
      "[CV] END bootstrap=True, max_depth=98, max_features=sqrt, min_samples_leaf=1, min_samples_split=2, n_estimators=261; total time=   0.5s\n",
      "[CV] END bootstrap=True, max_depth=98, max_features=sqrt, min_samples_leaf=1, min_samples_split=2, n_estimators=261; total time=   0.5s\n",
      "[CV] END bootstrap=True, max_depth=98, max_features=sqrt, min_samples_leaf=1, min_samples_split=2, n_estimators=261; total time=   0.5s\n",
      "[CV] END bootstrap=False, max_depth=54, max_features=sqrt, min_samples_leaf=2, min_samples_split=5, n_estimators=577; total time=   1.2s\n",
      "[CV] END bootstrap=False, max_depth=54, max_features=sqrt, min_samples_leaf=2, min_samples_split=5, n_estimators=577; total time=   1.2s\n",
      "[CV] END bootstrap=False, max_depth=54, max_features=sqrt, min_samples_leaf=2, min_samples_split=5, n_estimators=577; total time=   1.2s\n",
      "[CV] END bootstrap=False, max_depth=110, max_features=sqrt, min_samples_leaf=4, min_samples_split=5, n_estimators=683; total time=   1.4s\n",
      "[CV] END bootstrap=False, max_depth=110, max_features=sqrt, min_samples_leaf=4, min_samples_split=5, n_estimators=683; total time=   1.3s\n",
      "[CV] END bootstrap=False, max_depth=110, max_features=sqrt, min_samples_leaf=4, min_samples_split=5, n_estimators=683; total time=   1.4s\n",
      "[CV] END bootstrap=False, max_depth=10, max_features=auto, min_samples_leaf=2, min_samples_split=2, n_estimators=683; total time=   1.3s\n",
      "[CV] END bootstrap=False, max_depth=10, max_features=auto, min_samples_leaf=2, min_samples_split=2, n_estimators=683; total time=   1.4s\n",
      "[CV] END bootstrap=False, max_depth=10, max_features=auto, min_samples_leaf=2, min_samples_split=2, n_estimators=683; total time=   1.4s\n",
      "[CV] END bootstrap=True, max_depth=None, max_features=auto, min_samples_leaf=1, min_samples_split=2, n_estimators=50; total time=   0.0s\n",
      "[CV] END bootstrap=True, max_depth=None, max_features=auto, min_samples_leaf=1, min_samples_split=2, n_estimators=50; total time=   0.0s\n",
      "[CV] END bootstrap=True, max_depth=None, max_features=auto, min_samples_leaf=1, min_samples_split=2, n_estimators=50; total time=   0.0s\n",
      "[CV] END bootstrap=False, max_depth=10, max_features=auto, min_samples_leaf=1, min_samples_split=5, n_estimators=1000; total time=   2.1s\n",
      "[CV] END bootstrap=False, max_depth=10, max_features=auto, min_samples_leaf=1, min_samples_split=5, n_estimators=1000; total time=   2.1s\n",
      "[CV] END bootstrap=False, max_depth=10, max_features=auto, min_samples_leaf=1, min_samples_split=5, n_estimators=1000; total time=   2.1s\n",
      "[CV] END bootstrap=False, max_depth=76, max_features=sqrt, min_samples_leaf=2, min_samples_split=5, n_estimators=577; total time=   1.2s\n",
      "[CV] END bootstrap=False, max_depth=76, max_features=sqrt, min_samples_leaf=2, min_samples_split=5, n_estimators=577; total time=   1.3s\n",
      "[CV] END bootstrap=False, max_depth=76, max_features=sqrt, min_samples_leaf=2, min_samples_split=5, n_estimators=577; total time=   1.2s\n",
      "[CV] END bootstrap=False, max_depth=10, max_features=auto, min_samples_leaf=2, min_samples_split=2, n_estimators=577; total time=   1.2s\n",
      "[CV] END bootstrap=False, max_depth=10, max_features=auto, min_samples_leaf=2, min_samples_split=2, n_estimators=577; total time=   1.2s\n",
      "[CV] END bootstrap=False, max_depth=10, max_features=auto, min_samples_leaf=2, min_samples_split=2, n_estimators=577; total time=   1.2s\n",
      "[CV] END bootstrap=True, max_depth=32, max_features=auto, min_samples_leaf=4, min_samples_split=5, n_estimators=261; total time=   0.5s\n",
      "[CV] END bootstrap=True, max_depth=32, max_features=auto, min_samples_leaf=4, min_samples_split=5, n_estimators=261; total time=   0.4s\n",
      "[CV] END bootstrap=True, max_depth=32, max_features=auto, min_samples_leaf=4, min_samples_split=5, n_estimators=261; total time=   0.5s\n",
      "[CV] END bootstrap=True, max_depth=76, max_features=auto, min_samples_leaf=2, min_samples_split=5, n_estimators=894; total time=   1.8s\n"
     ]
    },
    {
     "name": "stdout",
     "output_type": "stream",
     "text": [
      "[CV] END bootstrap=True, max_depth=76, max_features=auto, min_samples_leaf=2, min_samples_split=5, n_estimators=894; total time=   1.9s\n",
      "[CV] END bootstrap=True, max_depth=76, max_features=auto, min_samples_leaf=2, min_samples_split=5, n_estimators=894; total time=   1.8s\n",
      "[CV] END bootstrap=False, max_depth=54, max_features=auto, min_samples_leaf=4, min_samples_split=10, n_estimators=1000; total time=   2.0s\n",
      "[CV] END bootstrap=False, max_depth=54, max_features=auto, min_samples_leaf=4, min_samples_split=10, n_estimators=1000; total time=   2.1s\n",
      "[CV] END bootstrap=False, max_depth=54, max_features=auto, min_samples_leaf=4, min_samples_split=10, n_estimators=1000; total time=   2.0s\n",
      "[CV] END bootstrap=True, max_depth=None, max_features=sqrt, min_samples_leaf=4, min_samples_split=2, n_estimators=366; total time=   0.7s\n",
      "[CV] END bootstrap=True, max_depth=None, max_features=sqrt, min_samples_leaf=4, min_samples_split=2, n_estimators=366; total time=   0.7s\n",
      "[CV] END bootstrap=True, max_depth=None, max_features=sqrt, min_samples_leaf=4, min_samples_split=2, n_estimators=366; total time=   0.6s\n",
      "[CV] END bootstrap=True, max_depth=32, max_features=sqrt, min_samples_leaf=1, min_samples_split=2, n_estimators=788; total time=   1.6s\n",
      "[CV] END bootstrap=True, max_depth=32, max_features=sqrt, min_samples_leaf=1, min_samples_split=2, n_estimators=788; total time=   1.7s\n",
      "[CV] END bootstrap=True, max_depth=32, max_features=sqrt, min_samples_leaf=1, min_samples_split=2, n_estimators=788; total time=   1.6s\n",
      "[CV] END bootstrap=False, max_depth=110, max_features=sqrt, min_samples_leaf=2, min_samples_split=2, n_estimators=1000; total time=   2.2s\n",
      "[CV] END bootstrap=False, max_depth=110, max_features=sqrt, min_samples_leaf=2, min_samples_split=2, n_estimators=1000; total time=   2.2s\n",
      "[CV] END bootstrap=False, max_depth=110, max_features=sqrt, min_samples_leaf=2, min_samples_split=2, n_estimators=1000; total time=   2.3s\n",
      "[CV] END bootstrap=False, max_depth=21, max_features=sqrt, min_samples_leaf=2, min_samples_split=10, n_estimators=788; total time=   1.7s\n",
      "[CV] END bootstrap=False, max_depth=21, max_features=sqrt, min_samples_leaf=2, min_samples_split=10, n_estimators=788; total time=   1.6s\n",
      "[CV] END bootstrap=False, max_depth=21, max_features=sqrt, min_samples_leaf=2, min_samples_split=10, n_estimators=788; total time=   1.6s\n",
      "[CV] END bootstrap=True, max_depth=54, max_features=auto, min_samples_leaf=2, min_samples_split=2, n_estimators=577; total time=   1.2s\n",
      "[CV] END bootstrap=True, max_depth=54, max_features=auto, min_samples_leaf=2, min_samples_split=2, n_estimators=577; total time=   1.3s\n",
      "[CV] END bootstrap=True, max_depth=54, max_features=auto, min_samples_leaf=2, min_samples_split=2, n_estimators=577; total time=   1.1s\n",
      "[CV] END bootstrap=True, max_depth=110, max_features=sqrt, min_samples_leaf=4, min_samples_split=10, n_estimators=894; total time=   1.7s\n",
      "[CV] END bootstrap=True, max_depth=110, max_features=sqrt, min_samples_leaf=4, min_samples_split=10, n_estimators=894; total time=   1.7s\n",
      "[CV] END bootstrap=True, max_depth=110, max_features=sqrt, min_samples_leaf=4, min_samples_split=10, n_estimators=894; total time=   1.7s\n",
      "[CV] END bootstrap=False, max_depth=76, max_features=auto, min_samples_leaf=2, min_samples_split=2, n_estimators=472; total time=   1.0s\n",
      "[CV] END bootstrap=False, max_depth=76, max_features=auto, min_samples_leaf=2, min_samples_split=2, n_estimators=472; total time=   0.9s\n",
      "[CV] END bootstrap=False, max_depth=76, max_features=auto, min_samples_leaf=2, min_samples_split=2, n_estimators=472; total time=   1.0s\n",
      "[CV] END bootstrap=False, max_depth=87, max_features=auto, min_samples_leaf=4, min_samples_split=10, n_estimators=894; total time=   1.8s\n",
      "[CV] END bootstrap=False, max_depth=87, max_features=auto, min_samples_leaf=4, min_samples_split=10, n_estimators=894; total time=   1.8s\n",
      "[CV] END bootstrap=False, max_depth=87, max_features=auto, min_samples_leaf=4, min_samples_split=10, n_estimators=894; total time=   1.9s\n",
      "[CV] END bootstrap=False, max_depth=10, max_features=sqrt, min_samples_leaf=4, min_samples_split=5, n_estimators=894; total time=   1.9s\n",
      "[CV] END bootstrap=False, max_depth=10, max_features=sqrt, min_samples_leaf=4, min_samples_split=5, n_estimators=894; total time=   1.9s\n",
      "[CV] END bootstrap=False, max_depth=10, max_features=sqrt, min_samples_leaf=4, min_samples_split=5, n_estimators=894; total time=   1.8s\n",
      "[CV] END bootstrap=True, max_depth=87, max_features=auto, min_samples_leaf=4, min_samples_split=5, n_estimators=894; total time=   1.8s\n",
      "[CV] END bootstrap=True, max_depth=87, max_features=auto, min_samples_leaf=4, min_samples_split=5, n_estimators=894; total time=   1.7s\n",
      "[CV] END bootstrap=True, max_depth=87, max_features=auto, min_samples_leaf=4, min_samples_split=5, n_estimators=894; total time=   1.8s\n",
      "[CV] END bootstrap=False, max_depth=21, max_features=sqrt, min_samples_leaf=1, min_samples_split=10, n_estimators=1000; total time=   2.3s\n",
      "[CV] END bootstrap=False, max_depth=21, max_features=sqrt, min_samples_leaf=1, min_samples_split=10, n_estimators=1000; total time=   2.1s\n",
      "[CV] END bootstrap=False, max_depth=21, max_features=sqrt, min_samples_leaf=1, min_samples_split=10, n_estimators=1000; total time=   2.3s\n",
      "[CV] END bootstrap=True, max_depth=32, max_features=auto, min_samples_leaf=2, min_samples_split=10, n_estimators=50; total time=   0.0s\n",
      "[CV] END bootstrap=True, max_depth=32, max_features=auto, min_samples_leaf=2, min_samples_split=10, n_estimators=50; total time=   0.0s\n",
      "[CV] END bootstrap=True, max_depth=32, max_features=auto, min_samples_leaf=2, min_samples_split=10, n_estimators=50; total time=   0.0s\n",
      "[CV] END bootstrap=False, max_depth=21, max_features=auto, min_samples_leaf=1, min_samples_split=5, n_estimators=683; total time=   1.5s\n",
      "[CV] END bootstrap=False, max_depth=21, max_features=auto, min_samples_leaf=1, min_samples_split=5, n_estimators=683; total time=   1.5s\n",
      "[CV] END bootstrap=False, max_depth=21, max_features=auto, min_samples_leaf=1, min_samples_split=5, n_estimators=683; total time=   1.5s\n",
      "[CV] END bootstrap=True, max_depth=10, max_features=sqrt, min_samples_leaf=4, min_samples_split=5, n_estimators=683; total time=   1.3s\n",
      "[CV] END bootstrap=True, max_depth=10, max_features=sqrt, min_samples_leaf=4, min_samples_split=5, n_estimators=683; total time=   1.3s\n",
      "[CV] END bootstrap=True, max_depth=10, max_features=sqrt, min_samples_leaf=4, min_samples_split=5, n_estimators=683; total time=   1.4s\n",
      "[CV] END bootstrap=True, max_depth=98, max_features=auto, min_samples_leaf=2, min_samples_split=10, n_estimators=50; total time=   0.0s\n",
      "[CV] END bootstrap=True, max_depth=98, max_features=auto, min_samples_leaf=2, min_samples_split=10, n_estimators=50; total time=   0.0s\n",
      "[CV] END bootstrap=True, max_depth=98, max_features=auto, min_samples_leaf=2, min_samples_split=10, n_estimators=50; total time=   0.0s\n",
      "[CV] END bootstrap=False, max_depth=65, max_features=auto, min_samples_leaf=1, min_samples_split=2, n_estimators=472; total time=   1.0s\n",
      "[CV] END bootstrap=False, max_depth=65, max_features=auto, min_samples_leaf=1, min_samples_split=2, n_estimators=472; total time=   1.0s\n",
      "[CV] END bootstrap=False, max_depth=65, max_features=auto, min_samples_leaf=1, min_samples_split=2, n_estimators=472; total time=   1.0s\n",
      "[CV] END bootstrap=False, max_depth=110, max_features=auto, min_samples_leaf=1, min_samples_split=10, n_estimators=261; total time=   0.5s\n",
      "[CV] END bootstrap=False, max_depth=110, max_features=auto, min_samples_leaf=1, min_samples_split=10, n_estimators=261; total time=   0.5s\n",
      "[CV] END bootstrap=False, max_depth=110, max_features=auto, min_samples_leaf=1, min_samples_split=10, n_estimators=261; total time=   0.5s\n",
      "[CV] END bootstrap=True, max_depth=43, max_features=sqrt, min_samples_leaf=1, min_samples_split=10, n_estimators=577; total time=   1.1s\n",
      "[CV] END bootstrap=True, max_depth=43, max_features=sqrt, min_samples_leaf=1, min_samples_split=10, n_estimators=577; total time=   1.1s\n",
      "[CV] END bootstrap=True, max_depth=43, max_features=sqrt, min_samples_leaf=1, min_samples_split=10, n_estimators=577; total time=   1.1s\n"
     ]
    }
   ],
   "source": [
    "# number of trees in random forest\n",
    "n_estimators = [int(x) for x in np.linspace(start=50, stop=1000, num=10)]\n",
    "# number of features to consider at every split\n",
    "max_features = ['auto', 'sqrt']\n",
    "# maximum number of level in tree\n",
    "max_depth = [int(x) for x in np.linspace(10, 110, num=10)] + [None]\n",
    "# minimum number of samples required to split a node\n",
    "min_samples_split = [2, 5, 10]\n",
    "# minimum number of samples required at each leaf node\n",
    "min_samples_leaf = [1, 2, 4]\n",
    "# method of selecting samples for training each tree\n",
    "bootstrap = [True, False]\n",
    "\n",
    "# random grid\n",
    "random_grid = {'n_estimators': n_estimators,\n",
    "              'max_features': max_features,\n",
    "              'max_depth': max_depth,\n",
    "              'min_samples_split': min_samples_split,\n",
    "              'min_samples_leaf': min_samples_leaf,\n",
    "              'bootstrap': bootstrap}\n",
    "\n",
    "rf_optimized = RandomizedSearchCV(estimator=rf, param_distributions=random_grid, n_iter=100, cv=3, verbose=2, random_state=42)\n",
    "\n",
    "# print(rf_optimized.best_params_)\n",
    "\n",
    "rf_optimized.fit(x_train, y_train)\n",
    "pred_optimized = rf_optimized.predict(x_test)\n",
    "#print(classification_report(y_test, pred_optimized))"
   ]
  },
  {
   "cell_type": "code",
   "execution_count": 21,
   "metadata": {},
   "outputs": [
    {
     "name": "stdout",
     "output_type": "stream",
     "text": [
      "              precision    recall  f1-score   support\n",
      "\n",
      "           0       0.77      0.79      0.78       144\n",
      "           1       0.82      0.81      0.81       175\n",
      "           2       0.00      0.00      0.00         1\n",
      "\n",
      "    accuracy                           0.80       320\n",
      "   macro avg       0.53      0.53      0.53       320\n",
      "weighted avg       0.79      0.80      0.80       320\n",
      "\n",
      "{'n_estimators': 894, 'min_samples_split': 2, 'min_samples_leaf': 1, 'max_features': 'auto', 'max_depth': 10, 'bootstrap': True}\n"
     ]
    },
    {
     "name": "stderr",
     "output_type": "stream",
     "text": [
      "C:\\Users\\kate_\\anaconda3\\envs\\PythonData\\lib\\site-packages\\sklearn\\metrics\\_classification.py:1248: UndefinedMetricWarning: Precision and F-score are ill-defined and being set to 0.0 in labels with no predicted samples. Use `zero_division` parameter to control this behavior.\n",
      "  _warn_prf(average, modifier, msg_start, len(result))\n",
      "C:\\Users\\kate_\\anaconda3\\envs\\PythonData\\lib\\site-packages\\sklearn\\metrics\\_classification.py:1248: UndefinedMetricWarning: Precision and F-score are ill-defined and being set to 0.0 in labels with no predicted samples. Use `zero_division` parameter to control this behavior.\n",
      "  _warn_prf(average, modifier, msg_start, len(result))\n",
      "C:\\Users\\kate_\\anaconda3\\envs\\PythonData\\lib\\site-packages\\sklearn\\metrics\\_classification.py:1248: UndefinedMetricWarning: Precision and F-score are ill-defined and being set to 0.0 in labels with no predicted samples. Use `zero_division` parameter to control this behavior.\n",
      "  _warn_prf(average, modifier, msg_start, len(result))\n"
     ]
    }
   ],
   "source": [
    "print(classification_report(y_test, pred_optimized))\n",
    "print(rf_optimized.best_params_)"
   ]
  },
  {
   "cell_type": "markdown",
   "metadata": {},
   "source": [
    "Credit: Kylie Ying - https://www.youtube.com/channel/UCKMjvg6fB6WS5WrPtbV4F5g"
   ]
  }
 ],
 "metadata": {
  "kernelspec": {
   "display_name": "Python 3",
   "language": "python",
   "name": "python3"
  },
  "language_info": {
   "codemirror_mode": {
    "name": "ipython",
    "version": 3
   },
   "file_extension": ".py",
   "mimetype": "text/x-python",
   "name": "python",
   "nbconvert_exporter": "python",
   "pygments_lexer": "ipython3",
   "version": "3.6.10"
  }
 },
 "nbformat": 4,
 "nbformat_minor": 4
}
